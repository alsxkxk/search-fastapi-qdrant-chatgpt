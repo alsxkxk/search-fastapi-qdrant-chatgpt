{
 "cells": [
  {
   "cell_type": "code",
   "execution_count": 79,
   "id": "initial_id",
   "metadata": {
    "collapsed": true,
    "ExecuteTime": {
     "end_time": "2024-05-09T12:36:27.256806Z",
     "start_time": "2024-05-09T12:36:27.235164Z"
    }
   },
   "outputs": [],
   "source": [
    "# Import client library\n",
    "from qdrant_client import QdrantClient\n",
    "from qdrant_client.models import VectorParams, Distance\n",
    "import json\n",
    "import numpy as np\n",
    "import csv\n",
    "\n",
    "client = QdrantClient(\"http://localhost:6333\")"
   ]
  },
  {
   "cell_type": "code",
   "outputs": [
    {
     "name": "stderr",
     "output_type": "stream",
     "text": [
      "/var/folders/0t/vlrx20713zj8p00vqd03ywqm0000gn/T/ipykernel_40319/2913464835.py:1: DeprecationWarning: `recreate_collection` method is deprecated and will be removed in the future. Use `collection_exists` to check collection existence and `create_collection` instead.\n",
      "  client.recreate_collection(\n"
     ]
    },
    {
     "data": {
      "text/plain": "True"
     },
     "execution_count": 80,
     "metadata": {},
     "output_type": "execute_result"
    }
   ],
   "source": [
    "client.recreate_collection(\n",
    "    collection_name=\"startups\",\n",
    "    vectors_config=VectorParams(size=384, distance=Distance.COSINE),\n",
    ")"
   ],
   "metadata": {
    "collapsed": false,
    "ExecuteTime": {
     "end_time": "2024-05-09T12:36:28.004152Z",
     "start_time": "2024-05-09T12:36:27.827452Z"
    }
   },
   "id": "5f26e5e74643c28c",
   "execution_count": 80
  },
  {
   "cell_type": "code",
   "outputs": [],
   "source": [
    "import csv\n",
    "\n",
    "csvfile = open('./os.csv')\n",
    "reader = csv.DictReader(csvfile)\n",
    "payload = map(dict, reader)\n",
    "\n",
    "vectors = np.load(\"./startup_vectors.npy\")\n"
   ],
   "metadata": {
    "collapsed": false,
    "ExecuteTime": {
     "end_time": "2024-05-09T12:36:30.105499Z",
     "start_time": "2024-05-09T12:36:30.100676Z"
    }
   },
   "id": "db4d6e3b8c68a9c4",
   "execution_count": 81
  },
  {
   "cell_type": "code",
   "outputs": [],
   "source": [
    "# fd = open(\"./startups_demo.json\")\n",
    "# \n",
    "# # payload is now an iterator over startup data\n",
    "# payload = map(json.loads, fd)\n",
    "# \n",
    "# # Load all vectors into memory, numpy array works as iterable for itself.\n",
    "# # Other option would be to use Mmap, if you don't want to load all data into RAM\n",
    "# vectors = np.load(\"./startup_vectors.npy\")"
   ],
   "metadata": {
    "collapsed": false,
    "ExecuteTime": {
     "end_time": "2024-05-09T12:36:30.991881Z",
     "start_time": "2024-05-09T12:36:30.989509Z"
    }
   },
   "id": "d14e26393b920e25",
   "execution_count": 82
  },
  {
   "cell_type": "code",
   "outputs": [],
   "source": [
    "client.upload_collection(\n",
    "    collection_name=\"startups\",\n",
    "    vectors=vectors,\n",
    "    payload=payload,\n",
    "    ids=None,  # Vector ids will be assigned automatically\n",
    "    batch_size=256,  # How many vectors will be uploaded in a single request?\n",
    ")"
   ],
   "metadata": {
    "collapsed": false,
    "ExecuteTime": {
     "end_time": "2024-05-09T12:36:31.549898Z",
     "start_time": "2024-05-09T12:36:31.517527Z"
    }
   },
   "id": "a42b59d1fae41223",
   "execution_count": 83
  }
 ],
 "metadata": {
  "kernelspec": {
   "display_name": "Python 3",
   "language": "python",
   "name": "python3"
  },
  "language_info": {
   "codemirror_mode": {
    "name": "ipython",
    "version": 2
   },
   "file_extension": ".py",
   "mimetype": "text/x-python",
   "name": "python",
   "nbconvert_exporter": "python",
   "pygments_lexer": "ipython2",
   "version": "2.7.6"
  }
 },
 "nbformat": 4,
 "nbformat_minor": 5
}
