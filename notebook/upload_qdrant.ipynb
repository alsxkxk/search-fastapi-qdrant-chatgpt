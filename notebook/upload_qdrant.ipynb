{
 "cells": [
  {
   "cell_type": "code",
   "execution_count": 6,
   "id": "initial_id",
   "metadata": {
    "collapsed": true,
    "ExecuteTime": {
     "end_time": "2024-05-13T07:21:00.795105Z",
     "start_time": "2024-05-13T07:21:00.774266Z"
    }
   },
   "outputs": [],
   "source": [
    "# Import client library\n",
    "from qdrant_client import QdrantClient\n",
    "from qdrant_client.models import VectorParams, Distance\n",
    "import numpy as np\n",
    "from config import QDRANT_URL, QDRANT_API_KEY, COLLECTION_NAME\n",
    "client = QdrantClient(\n",
    "    url=QDRANT_URL,\n",
    "    api_key=QDRANT_API_KEY)"
   ]
  },
  {
   "cell_type": "code",
   "outputs": [
    {
     "name": "stderr",
     "output_type": "stream",
     "text": [
      "/var/folders/0t/vlrx20713zj8p00vqd03ywqm0000gn/T/ipykernel_1442/3062628332.py:1: DeprecationWarning: `recreate_collection` method is deprecated and will be removed in the future. Use `collection_exists` to check collection existence and `create_collection` instead.\n",
      "  client.recreate_collection(\n"
     ]
    },
    {
     "data": {
      "text/plain": "True"
     },
     "execution_count": 7,
     "metadata": {},
     "output_type": "execute_result"
    }
   ],
   "source": [
    "client.recreate_collection(\n",
    "    collection_name=COLLECTION_NAME,\n",
    "    vectors_config=VectorParams(size=384, distance=Distance.COSINE),\n",
    ")"
   ],
   "metadata": {
    "collapsed": false,
    "ExecuteTime": {
     "end_time": "2024-05-13T07:21:02.906719Z",
     "start_time": "2024-05-13T07:21:01.584252Z"
    }
   },
   "id": "5f26e5e74643c28c",
   "execution_count": 7
  },
  {
   "cell_type": "code",
   "outputs": [],
   "source": [
    "import csv\n",
    "\n",
    "csvfile = open('./os.csv')\n",
    "reader = csv.DictReader(csvfile)\n",
    "payload = map(dict, reader)\n",
    "\n",
    "vectors = np.load(\"./startup_vectors.npy\")\n"
   ],
   "metadata": {
    "collapsed": false,
    "ExecuteTime": {
     "end_time": "2024-05-13T07:21:04.642081Z",
     "start_time": "2024-05-13T07:21:04.637825Z"
    }
   },
   "id": "db4d6e3b8c68a9c4",
   "execution_count": 8
  },
  {
   "cell_type": "code",
   "outputs": [],
   "source": [
    "# fd = open(\"./startups_demo.json\")\n",
    "# \n",
    "# # payload is now an iterator over startup data\n",
    "# payload = map(json.loads, fd)\n",
    "# \n",
    "# # Load all vectors into memory, numpy array works as iterable for itself.\n",
    "# # Other option would be to use Mmap, if you don't want to load all data into RAM\n",
    "# vectors = np.load(\"./startup_vectors.npy\")"
   ],
   "metadata": {
    "collapsed": false,
    "ExecuteTime": {
     "end_time": "2024-05-13T07:21:05.599623Z",
     "start_time": "2024-05-13T07:21:05.597880Z"
    }
   },
   "id": "d14e26393b920e25",
   "execution_count": 9
  },
  {
   "cell_type": "code",
   "outputs": [],
   "source": [
    "client.upload_collection(\n",
    "    collection_name=\"my_collection\",\n",
    "    vectors=vectors,\n",
    "    payload=payload,\n",
    "    ids=None,  # Vector ids will be assigned automatically\n",
    "    batch_size=256,  # How many vectors will be uploaded in a single request?\n",
    ")"
   ],
   "metadata": {
    "collapsed": false,
    "ExecuteTime": {
     "end_time": "2024-05-13T07:21:24.595830Z",
     "start_time": "2024-05-13T07:21:24.575415Z"
    }
   },
   "id": "a42b59d1fae41223",
   "execution_count": 11
  },
  {
   "cell_type": "code",
   "outputs": [],
   "source": [],
   "metadata": {
    "collapsed": false,
    "ExecuteTime": {
     "end_time": "2024-05-11T08:31:17.099079Z",
     "start_time": "2024-05-11T08:31:17.090561Z"
    }
   },
   "id": "bdda5a1beeb2e8c2",
   "execution_count": 5
  }
 ],
 "metadata": {
  "kernelspec": {
   "display_name": "Python 3",
   "language": "python",
   "name": "python3"
  },
  "language_info": {
   "codemirror_mode": {
    "name": "ipython",
    "version": 2
   },
   "file_extension": ".py",
   "mimetype": "text/x-python",
   "name": "python",
   "nbconvert_exporter": "python",
   "pygments_lexer": "ipython2",
   "version": "2.7.6"
  }
 },
 "nbformat": 4,
 "nbformat_minor": 5
}
